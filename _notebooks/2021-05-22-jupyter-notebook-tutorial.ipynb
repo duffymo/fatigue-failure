{
 "cells": [
  {
   "cell_type": "markdown",
   "metadata": {
    "collapsed": true,
    "pycharm": {
     "name": "#%% md\n"
    }
   },
   "source": [
    "# First Jupyter Notebook: Tutorial With DataSpell\n",
    "\n",
    "This is my first attempt at using Jupyter notebook.\n",
    "\n",
    "My goal is to learn fast.ai, but one must walk before running.  Best to begin with a Jupyter notebook.  I found a [tutorial](https://www.dataquest.io/blog/jupyter-notebook-tutorial/) that introduces both markdown and calculations.\n",
    "\n",
    "I also downloaded DataSpell, an early access IDE for data science from JetBrains.  I think their IntelliJ IDE for Java is the best tool on the market.  I wanted to see if their new tool could provide a similar boost for my venture into data science.\n",
    "\n",
    "Every language has a \"Hello World\".  Jupyter notebook is no different.  Let's create a cell:\n",
    "\n"
   ]
  },
  {
   "cell_type": "code",
   "execution_count": 21,
   "outputs": [
    {
     "name": "stdout",
     "output_type": "stream",
     "text": [
      "Hello World!\n"
     ]
    }
   ],
   "source": [
    "print('Hello World!')"
   ],
   "metadata": {
    "collapsed": false,
    "pycharm": {
     "name": "#%%\n"
    }
   }
  },
  {
   "cell_type": "code",
   "execution_count": 22,
   "outputs": [],
   "source": [
    "import time\n",
    "time.sleep(3)"
   ],
   "metadata": {
    "collapsed": false,
    "pycharm": {
     "name": "#%%\n"
    }
   }
  },
  {
   "cell_type": "markdown",
   "source": [
    "So far, so good.  Adding cells with markdown and code.  This is a nice environment.  DataSpell is making it fun.  Let's add a function:"
   ],
   "metadata": {
    "collapsed": false
   }
  },
  {
   "cell_type": "code",
   "execution_count": 23,
   "outputs": [
    {
     "data": {
      "text/plain": "'Hello, Michael!'"
     },
     "execution_count": 23,
     "metadata": {},
     "output_type": "execute_result"
    }
   ],
   "source": [
    "def say_hello(recipient):\n",
    "    return 'Hello, {}!'.format(recipient)\n",
    "\n",
    "say_hello('Michael')"
   ],
   "metadata": {
    "collapsed": false,
    "pycharm": {
     "name": "#%%\n"
    }
   }
  },
  {
   "cell_type": "markdown",
   "source": [
    "Jupyter notebook does a great job of keep code and documentation together.  It's a scientific revolution.  I think this is the best hope we have for maintaining that scientific ideal of making results public and easily reproducible by others.\n",
    "\n",
    "I'll have to dig into [LaTeX](https://www.mathjax.org/) for math typesetting.  What does that look like?\n",
    "\n",
    "Euler's identity:\n",
    "$$e^{i\\pi} + 1 = 0$$<br>\n",
    "$$\\frac{arg 1}{arg 2}$$<br>\n",
    "$$x^2$$<br>\n",
    "$$e^{i\\pi}$$<br>\n",
    "$$A_i$$<br>\n",
    "$$B_{ij}$$<br>\n",
    "$$\\sqrt[n]{arg}$$<br>\n",
    "$$\\hat{Y} = \\hat{\\beta}_{0} + \\sum \\limits _{j=1} ^{p} X_{j}\\hat{\\beta}_{j}$$<br>\n",
    "\n",
    "The tutorial has a bunch of markdown examples that aren't hard to understand.  No sense memorizing these.  I'll Google them when I need them.\n",
    "\n",
    "# Level 1 heading\n",
    "## Level 2 heading\n",
    "\n",
    "Text is easy to format:\n",
    "\n",
    "**bold**\n",
    "_italic_\n",
    "\n",
    "Lists are simple:\n",
    "\n",
    "1. First element\n",
    "2. Second element\n",
    "\n",
    "* First bullet\n",
    "* Second bullet\n",
    "\n",
    "I created hyperlinks earlier.\n",
    "\n",
    "It's easy to add code.  I hope to be able to add Python, R, and Kotlin someday soon.\n",
    "\n",
    "`fun foo()`\n",
    "\n",
    "Here's a code block:\n",
    "\n",
    "```\n",
    "fun bar() = \"This could be some Kotlin code\"\n",
    "```\n",
    "\n",
    "You can also tab in:\n",
    "\n",
    "    fun baz():\n",
    "        return 'A Python string'\n",
    "\n",
    "What about images?  Let's add an image of a dog:\n",
    "\n",
    "![Who dat?](images/luna-napping.jpeg)\n",
    "\n",
    "That's enough markdown.  This is about code.  Does DataSpell give me access to numpy?"
   ],
   "metadata": {
    "collapsed": false
   }
  },
  {
   "cell_type": "code",
   "execution_count": 24,
   "outputs": [
    {
     "name": "stdout",
     "output_type": "stream",
     "text": [
      "9 squared is 81\n"
     ]
    }
   ],
   "source": [
    "import numpy as np\n",
    "\n",
    "def square(x):\n",
    "    return x*x\n",
    "\n",
    "x = np.random.randint(1, 10)\n",
    "y = square(x)\n",
    "print('%d squared is %d' % (x, y))"
   ],
   "metadata": {
    "collapsed": false,
    "pycharm": {
     "name": "#%%\n"
    }
   }
  },
  {
   "cell_type": "markdown",
   "source": [
    "Now I have numpy.   The tutorial tells me that there are kernels for over 100 languages, including Java, C, Fortran, R, and Kotlin.  There's an SoS kernel that provides multi-language support within a single notebook.  I'll stick to Python for now, but I can't wait to try out both R and Kotlin.\n",
    "\n",
    "Enough about notebook mechanics.  What about a real analysis?\n",
    "\n",
    "The tutorial problem uses a Fortune 500 data set.\n",
    "\n"
   ],
   "metadata": {
    "collapsed": false
   }
  }
 ],
 "metadata": {
  "kernelspec": {
   "display_name": "Python 3",
   "language": "python",
   "name": "python3"
  },
  "language_info": {
   "codemirror_mode": {
    "name": "ipython",
    "version": 2
   },
   "file_extension": ".py",
   "mimetype": "text/x-python",
   "name": "python",
   "nbconvert_exporter": "python",
   "pygments_lexer": "ipython2",
   "version": "2.7.6"
  }
 },
 "nbformat": 4,
 "nbformat_minor": 0
}