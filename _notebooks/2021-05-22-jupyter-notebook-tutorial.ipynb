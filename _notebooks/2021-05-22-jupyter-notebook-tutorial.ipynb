{
 "cells": [
  {
   "cell_type": "markdown",
   "source": [
    "# First Jupyter Notebook: Tutorial With DataSpell\n",
    "\n",
    "This is my first attempt at using Jupyter notebook.\n",
    "\n",
    "My goal is to learn fast.ai, but one must walk before running. Best to begin with a Jupyter notebook. I found a tutorial that introduces both markdown and calculations.\n",
    "\n",
    "I also downloaded DataSpell, an early access IDE for data science from JetBrains. I think their IntelliJ IDE for Java is the best tool on the market. I wanted to see if their new tool could provide a similar boost for my venture into data science.\n",
    "\n",
    "Every language has a “Hello World”. Jupyter notebook is no different. Let’s create a cell:"
   ],
   "metadata": {
    "collapsed": false,
    "pycharm": {
     "name": "#%% md\n"
    }
   }
  },
  {
   "cell_type": "code",
   "source": [
    "print('Hello World!')"
   ],
   "metadata": {
    "collapsed": false,
    "pycharm": {
     "name": "#%%\n"
    }
   },
   "execution_count": 65,
   "outputs": [
    {
     "name": "stdout",
     "output_type": "stream",
     "text": [
      "Hello World!\n"
     ]
    }
   ]
  },
  {
   "cell_type": "code",
   "execution_count": 66,
   "outputs": [],
   "source": [
    "import time\n",
    "time.sleep(3)"
   ],
   "metadata": {
    "collapsed": false,
    "pycharm": {
     "name": "#%%\n"
    }
   }
  },
  {
   "cell_type": "markdown",
   "source": [
    "So far, so good.  Adding cells with markdown and code.  This is a nice environment.  DataSpell is making it fun.  Let's add a function:"
   ],
   "metadata": {
    "collapsed": false
   }
  },
  {
   "cell_type": "code",
   "execution_count": 67,
   "outputs": [
    {
     "data": {
      "text/plain": "'Hello, Michael!'"
     },
     "execution_count": 67,
     "metadata": {},
     "output_type": "execute_result"
    }
   ],
   "source": [
    "def say_hello(recipient):\n",
    "    return 'Hello, {}!'.format(recipient)\n",
    "\n",
    "say_hello('Michael')"
   ],
   "metadata": {
    "collapsed": false,
    "pycharm": {
     "name": "#%%\n"
    }
   }
  },
  {
   "cell_type": "markdown",
   "source": [
    "Jupyter notebook does a great job of keep code and documentation together.  It's a scientific revolution.  I think this is the best hope we have for maintaining that scientific ideal of making results public and easily reproducible by others.\n",
    "\n",
    "I'll have to dig into [LaTeX](https://www.mathjax.org/) for math typesetting.  What does that look like?\n",
    "\n",
    "Euler's identity: $$e^{i\\pi} + 1 = 0$$<br>\n",
    "$$\\frac{arg 1}{arg 2}$$<br>\n",
    "$$x^2$$<br>\n",
    "$$e^{i\\pi}$$<br>\n",
    "$$A_i$$<br>\n",
    "$$B_{ij}$$<br>\n",
    "$$\\sqrt[n]{arg}$$<br>\n",
    "\n",
    "Here's a linear equation:\n",
    "\n",
    "$$ \\hat{Y} = \\hat{\\beta_0} + \\sum_{j=1}^p \\hat{\\beta}_j X_j $$<br>\n",
    "\n",
    "The tutorial has a bunch of markdown examples that aren't hard to understand.  No sense memorizing these.  I'll Google them when I need them.\n",
    "\n",
    "# Level 1 heading\n",
    "## Level 2 heading\n",
    "\n",
    "Text is easy to format:\n",
    "\n",
    "**bold**\n",
    "_italic_\n",
    "\n",
    "Lists are simple:\n",
    "\n",
    "1. First element\n",
    "2. Second element\n",
    "\n",
    "* First bullet\n",
    "* Second bullet\n",
    "\n",
    "I created hyperlinks earlier.\n",
    "\n",
    "It's easy to add code.  I hope to be able to add Python, R, and Kotlin someday soon.\n",
    "\n",
    "`fun foo()`\n",
    "\n",
    "Here's a code block:\n",
    "\n",
    "```\n",
    "fun bar() = \"This could be some Kotlin code\"\n",
    "```\n",
    "\n",
    "You can also tab in:\n",
    "\n",
    "    fun baz():\n",
    "        return 'A Python string'\n",
    "\n",
    "What about images?  Let's add an image of a dog:\n",
    "\n",
    "![Who dat?](../my_images/luna-napping.jpeg)\n",
    "\n",
    "That's enough markdown.  This is about code.  Does DataSpell give me access to numpy?"
   ],
   "metadata": {
    "collapsed": false,
    "pycharm": {
     "name": "#%% md\n"
    }
   }
  },
  {
   "cell_type": "code",
   "execution_count": 68,
   "outputs": [
    {
     "name": "stdout",
     "output_type": "stream",
     "text": [
      "8 squared is 64\n"
     ]
    }
   ],
   "source": [
    "import numpy as np\n",
    "\n",
    "def square(q):\n",
    "    return q*q\n",
    "\n",
    "x = np.random.randint(1, 10)\n",
    "y = square(x)\n",
    "print('%d squared is %d' % (x, y))"
   ],
   "metadata": {
    "collapsed": false,
    "pycharm": {
     "name": "#%%\n"
    }
   }
  },
  {
   "cell_type": "markdown",
   "source": [
    "Now I have numpy.   The tutorial tells me that there are kernels for over 100 languages, including Java, C, Fortran, R, and Kotlin.  There's an SoS kernel that provides multi-language support within a single notebook.  I'll stick to Python for now, but I can't wait to try out both R and Kotlin.\n",
    "\n",
    "Enough about notebook mechanics.  What about a real analysis?\n",
    "\n",
    "The tutorial problem uses a Fortune 500 data set.\n"
   ],
   "metadata": {
    "collapsed": false
   }
  },
  {
   "cell_type": "code",
   "execution_count": 69,
   "outputs": [
    {
     "name": "stdout",
     "output_type": "stream",
     "text": [
      "/home/michaelduffy/Projects/fast.ai/fatigue-failure/_notebooks\r\n"
     ]
    },
    {
     "data": {
      "text/plain": "   Year  Rank           Company  Revenue (in millions) Profit (in millions)\n0  1955     1    General Motors                 9823.5                  806\n1  1955     2       Exxon Mobil                 5661.4                584.8\n2  1955     3        U.S. Steel                 3250.4                195.4\n3  1955     4  General Electric                 2959.1                212.6\n4  1955     5            Esmark                 2510.8                 19.1",
      "text/html": "<div>\n<style scoped>\n    .dataframe tbody tr th:only-of-type {\n        vertical-align: middle;\n    }\n\n    .dataframe tbody tr th {\n        vertical-align: top;\n    }\n\n    .dataframe thead th {\n        text-align: right;\n    }\n</style>\n<table border=\"1\" class=\"dataframe\">\n  <thead>\n    <tr style=\"text-align: right;\">\n      <th></th>\n      <th>Year</th>\n      <th>Rank</th>\n      <th>Company</th>\n      <th>Revenue (in millions)</th>\n      <th>Profit (in millions)</th>\n    </tr>\n  </thead>\n  <tbody>\n    <tr>\n      <th>0</th>\n      <td>1955</td>\n      <td>1</td>\n      <td>General Motors</td>\n      <td>9823.5</td>\n      <td>806</td>\n    </tr>\n    <tr>\n      <th>1</th>\n      <td>1955</td>\n      <td>2</td>\n      <td>Exxon Mobil</td>\n      <td>5661.4</td>\n      <td>584.8</td>\n    </tr>\n    <tr>\n      <th>2</th>\n      <td>1955</td>\n      <td>3</td>\n      <td>U.S. Steel</td>\n      <td>3250.4</td>\n      <td>195.4</td>\n    </tr>\n    <tr>\n      <th>3</th>\n      <td>1955</td>\n      <td>4</td>\n      <td>General Electric</td>\n      <td>2959.1</td>\n      <td>212.6</td>\n    </tr>\n    <tr>\n      <th>4</th>\n      <td>1955</td>\n      <td>5</td>\n      <td>Esmark</td>\n      <td>2510.8</td>\n      <td>19.1</td>\n    </tr>\n  </tbody>\n</table>\n</div>"
     },
     "execution_count": 69,
     "metadata": {},
     "output_type": "execute_result"
    }
   ],
   "source": [
    "%matplotlib inline\n",
    "\n",
    "import pandas as pd\n",
    "import matplotlib.pyplot as plt\n",
    "import seaborn as sns\n",
    "\n",
    "sns.set(style=\"darkgrid\")\n",
    "\n",
    "!pwd\n",
    "\n",
    "df = pd.read_csv('../datasets/fortune500.csv')\n",
    "\n",
    "df.head()"
   ],
   "metadata": {
    "collapsed": false,
    "pycharm": {
     "name": "#%%\n"
    }
   }
  }
 ],
 "metadata": {
  "kernelspec": {
   "display_name": "Python 3",
   "language": "python",
   "name": "python3"
  },
  "language_info": {
   "codemirror_mode": {
    "name": "ipython",
    "version": 2
   },
   "file_extension": ".py",
   "mimetype": "text/x-python",
   "name": "python",
   "nbconvert_exporter": "python",
   "pygments_lexer": "ipython2",
   "version": "2.7.6"
  }
 },
 "nbformat": 4,
 "nbformat_minor": 0
}