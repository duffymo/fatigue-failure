{
 "cells": [
  {
   "cell_type": "markdown",
   "source": [
    "# First Jupyter Notebook: Tutorial With DataSpell\n",
    "\n",
    "This is my first attempt at using Jupyter notebook.\n",
    "\n",
    "My goal is to learn fast.ai, but one must walk before running. Best to begin with a Jupyter notebook. I found a tutorial that introduces both markdown and calculations.\n",
    "\n",
    "I also downloaded DataSpell, an early access IDE for data science from JetBrains. I think their IntelliJ IDE for Java is the best tool on the market. I wanted to see if their new tool could provide a similar boost for my venture into data science.\n",
    "\n",
    "Every language has a “Hello World”. Jupyter notebook is no different. Let’s create a cell:"
   ],
   "metadata": {
    "collapsed": false,
    "pycharm": {
     "name": "#%% md\n"
    }
   }
  },
  {
   "cell_type": "code",
   "source": [
    "print('Hello World!')"
   ],
   "metadata": {
    "collapsed": false,
    "pycharm": {
     "name": "#%%\n"
    }
   },
   "execution_count": 31,
   "outputs": [
    {
     "name": "stdout",
     "output_type": "stream",
     "text": [
      "Hello World!\n"
     ]
    }
   ]
  },
  {
   "cell_type": "code",
   "execution_count": 32,
   "outputs": [],
   "source": [
    "import time\n",
    "time.sleep(3)"
   ],
   "metadata": {
    "collapsed": false,
    "pycharm": {
     "name": "#%%\n"
    }
   }
  },
  {
   "cell_type": "markdown",
   "source": [
    "So far, so good.  Adding cells with markdown and code.  This is a nice environment.  DataSpell is making it fun.  Let's add a function:"
   ],
   "metadata": {
    "collapsed": false
   }
  },
  {
   "cell_type": "code",
   "execution_count": 33,
   "outputs": [
    {
     "data": {
      "text/plain": "'Hello, Michael!'"
     },
     "execution_count": 33,
     "metadata": {},
     "output_type": "execute_result"
    }
   ],
   "source": [
    "def say_hello(recipient):\n",
    "    return 'Hello, {}!'.format(recipient)\n",
    "\n",
    "say_hello('Michael')"
   ],
   "metadata": {
    "collapsed": false,
    "pycharm": {
     "name": "#%%\n"
    }
   }
  },
  {
   "cell_type": "markdown",
   "source": [
    "Jupyter notebook does a great job of keep code and documentation together.  It's a scientific revolution.  I think this is the best hope we have for maintaining that scientific ideal of making results public and easily reproducible by others.\n",
    "\n",
    "I'll have to dig into [LaTeX](https://www.mathjax.org/) for math typesetting.  What does that look like?\n",
    "\n",
    "Euler's identity: $$e^{i\\pi} + 1 = 0$$<br>\n",
    "$$\\frac{arg 1}{arg 2}$$<br>\n",
    "$$x^2$$<br>\n",
    "$$e^{i\\pi}$$<br>\n",
    "$$A_i$$<br>\n",
    "$$B_{ij}$$<br>\n",
    "$$\\sqrt[n]{arg}$$<br>\n",
    "\n",
    "Here's a linear equation:\n",
    "\n",
    "$$ \\hat{Y} = \\hat{\\beta_0} + \\sum_{j=1}^p \\hat{\\beta}_j X_j $$<br>\n",
    "\n",
    "The tutorial has a bunch of markdown examples that aren't hard to understand.  No sense memorizing these.  I'll Google them when I need them.\n",
    "\n",
    "# Level 1 heading\n",
    "## Level 2 heading\n",
    "\n",
    "Text is easy to format:\n",
    "\n",
    "**bold**\n",
    "_italic_\n",
    "\n",
    "Lists are simple:\n",
    "\n",
    "1. First element\n",
    "2. Second element\n",
    "\n",
    "* First bullet\n",
    "* Second bullet\n",
    "\n",
    "I created hyperlinks earlier.\n",
    "\n",
    "It's easy to add code.  I hope to be able to add Python, R, and Kotlin someday soon.\n",
    "\n",
    "`fun foo()`\n",
    "\n",
    "Here's a code block:\n",
    "\n",
    "```\n",
    "fun bar() = \"This could be some Kotlin code\"\n",
    "```\n",
    "\n",
    "You can also tab in:\n",
    "\n",
    "    fun baz():\n",
    "        return 'A Python string'\n",
    "\n",
    "What about images?  Let's add an image of a dog:\n",
    "\n",
    "![Who dat?](../my_images/luna-napping.jpeg)\n",
    "\n",
    "That's enough markdown.  This is about code.  Does DataSpell give me access to numpy?"
   ],
   "metadata": {
    "collapsed": false,
    "pycharm": {
     "name": "#%% md\n"
    }
   }
  },
  {
   "cell_type": "code",
   "execution_count": 34,
   "outputs": [
    {
     "name": "stdout",
     "output_type": "stream",
     "text": [
      "6 squared is 36\n"
     ]
    }
   ],
   "source": [
    "import numpy as np\n",
    "\n",
    "def square(q):\n",
    "    return q*q\n",
    "\n",
    "x = np.random.randint(1, 10)\n",
    "y = square(x)\n",
    "print('%d squared is %d' % (x, y))"
   ],
   "metadata": {
    "collapsed": false,
    "pycharm": {
     "name": "#%%\n"
    }
   }
  },
  {
   "cell_type": "markdown",
   "source": [
    "Now I have numpy.   The tutorial tells me that there are kernels for over 100 languages, including Java, C, Fortran, R, and Kotlin.  There's an SoS kernel that provides multi-language support within a single notebook.  I'll stick to Python for now, but I can't wait to try out both R and Kotlin.\n",
    "\n",
    "Enough about notebook mechanics.  What about a real analysis?\n",
    "\n",
    "The tutorial problem uses a Fortune 500 data set.\n"
   ],
   "metadata": {
    "collapsed": false
   }
  },
  {
   "cell_type": "code",
   "execution_count": 35,
   "outputs": [
    {
     "data": {
      "text/plain": "   Year  Rank           Company  Revenue (in millions) Profit (in millions)\n0  1955     1    General Motors                 9823.5                  806\n1  1955     2       Exxon Mobil                 5661.4                584.8\n2  1955     3        U.S. Steel                 3250.4                195.4\n3  1955     4  General Electric                 2959.1                212.6\n4  1955     5            Esmark                 2510.8                 19.1",
      "text/html": "<div>\n<style scoped>\n    .dataframe tbody tr th:only-of-type {\n        vertical-align: middle;\n    }\n\n    .dataframe tbody tr th {\n        vertical-align: top;\n    }\n\n    .dataframe thead th {\n        text-align: right;\n    }\n</style>\n<table border=\"1\" class=\"dataframe\">\n  <thead>\n    <tr style=\"text-align: right;\">\n      <th></th>\n      <th>Year</th>\n      <th>Rank</th>\n      <th>Company</th>\n      <th>Revenue (in millions)</th>\n      <th>Profit (in millions)</th>\n    </tr>\n  </thead>\n  <tbody>\n    <tr>\n      <th>0</th>\n      <td>1955</td>\n      <td>1</td>\n      <td>General Motors</td>\n      <td>9823.5</td>\n      <td>806</td>\n    </tr>\n    <tr>\n      <th>1</th>\n      <td>1955</td>\n      <td>2</td>\n      <td>Exxon Mobil</td>\n      <td>5661.4</td>\n      <td>584.8</td>\n    </tr>\n    <tr>\n      <th>2</th>\n      <td>1955</td>\n      <td>3</td>\n      <td>U.S. Steel</td>\n      <td>3250.4</td>\n      <td>195.4</td>\n    </tr>\n    <tr>\n      <th>3</th>\n      <td>1955</td>\n      <td>4</td>\n      <td>General Electric</td>\n      <td>2959.1</td>\n      <td>212.6</td>\n    </tr>\n    <tr>\n      <th>4</th>\n      <td>1955</td>\n      <td>5</td>\n      <td>Esmark</td>\n      <td>2510.8</td>\n      <td>19.1</td>\n    </tr>\n  </tbody>\n</table>\n</div>"
     },
     "execution_count": 35,
     "metadata": {},
     "output_type": "execute_result"
    }
   ],
   "source": [
    "%matplotlib inline\n",
    "\n",
    "import pandas as pd\n",
    "import matplotlib.pyplot as plt\n",
    "import seaborn as sns\n",
    "\n",
    "sns.set(style=\"darkgrid\")\n",
    "\n",
    "df = pd.read_csv('../datasets/fortune500.csv')\n",
    "\n",
    "df.head()"
   ],
   "metadata": {
    "collapsed": false,
    "pycharm": {
     "name": "#%%\n"
    }
   }
  },
  {
   "cell_type": "code",
   "execution_count": 36,
   "outputs": [
    {
     "data": {
      "text/plain": "       Year  Rank                Company  Revenue (in millions)  \\\n25495  2005   496        Wm. Wrigley Jr.                 3648.6   \n25496  2005   497         Peabody Energy                 3631.6   \n25497  2005   498  Wendy's International                 3630.4   \n25498  2005   499     Kindred Healthcare                 3616.6   \n25499  2005   500   Cincinnati Financial                 3614.0   \n\n      Profit (in millions)  \n25495                  493  \n25496                175.4  \n25497                 57.8  \n25498                 70.6  \n25499                  584  ",
      "text/html": "<div>\n<style scoped>\n    .dataframe tbody tr th:only-of-type {\n        vertical-align: middle;\n    }\n\n    .dataframe tbody tr th {\n        vertical-align: top;\n    }\n\n    .dataframe thead th {\n        text-align: right;\n    }\n</style>\n<table border=\"1\" class=\"dataframe\">\n  <thead>\n    <tr style=\"text-align: right;\">\n      <th></th>\n      <th>Year</th>\n      <th>Rank</th>\n      <th>Company</th>\n      <th>Revenue (in millions)</th>\n      <th>Profit (in millions)</th>\n    </tr>\n  </thead>\n  <tbody>\n    <tr>\n      <th>25495</th>\n      <td>2005</td>\n      <td>496</td>\n      <td>Wm. Wrigley Jr.</td>\n      <td>3648.6</td>\n      <td>493</td>\n    </tr>\n    <tr>\n      <th>25496</th>\n      <td>2005</td>\n      <td>497</td>\n      <td>Peabody Energy</td>\n      <td>3631.6</td>\n      <td>175.4</td>\n    </tr>\n    <tr>\n      <th>25497</th>\n      <td>2005</td>\n      <td>498</td>\n      <td>Wendy's International</td>\n      <td>3630.4</td>\n      <td>57.8</td>\n    </tr>\n    <tr>\n      <th>25498</th>\n      <td>2005</td>\n      <td>499</td>\n      <td>Kindred Healthcare</td>\n      <td>3616.6</td>\n      <td>70.6</td>\n    </tr>\n    <tr>\n      <th>25499</th>\n      <td>2005</td>\n      <td>500</td>\n      <td>Cincinnati Financial</td>\n      <td>3614.0</td>\n      <td>584</td>\n    </tr>\n  </tbody>\n</table>\n</div>"
     },
     "execution_count": 36,
     "metadata": {},
     "output_type": "execute_result"
    }
   ],
   "source": [
    "df.tail()"
   ],
   "metadata": {
    "collapsed": false,
    "pycharm": {
     "name": "#%%\n"
    }
   }
  },
  {
   "cell_type": "code",
   "source": [
    "df.columns = ['year', 'rank', 'company', 'revenue', 'profit']\n",
    "len(df)"
   ],
   "metadata": {
    "collapsed": false,
    "pycharm": {
     "name": "#%%\n"
    }
   },
   "execution_count": 37,
   "outputs": [
    {
     "data": {
      "text/plain": "25500"
     },
     "execution_count": 37,
     "metadata": {},
     "output_type": "execute_result"
    }
   ]
  },
  {
   "cell_type": "code",
   "execution_count": 38,
   "outputs": [
    {
     "data": {
      "text/plain": "year         int64\nrank         int64\ncompany     object\nrevenue    float64\nprofit      object\ndtype: object"
     },
     "execution_count": 38,
     "metadata": {},
     "output_type": "execute_result"
    }
   ],
   "source": [
    "df.dtypes"
   ],
   "metadata": {
    "collapsed": false,
    "pycharm": {
     "name": "#%%\n"
    }
   }
  },
  {
   "cell_type": "markdown",
   "source": [
    "Profit should be a float; instead, it's an object.  There must be non-integer values in that column.\n"
   ],
   "metadata": {
    "collapsed": false,
    "pycharm": {
     "name": "#%% md\n"
    }
   }
  },
  {
   "cell_type": "code",
   "execution_count": 39,
   "outputs": [
    {
     "data": {
      "text/plain": "     year  rank                company  revenue profit\n228  1955   229                 Norton    135.0   N.A.\n290  1955   291        Schlitz Brewing    100.0   N.A.\n294  1955   295  Pacific Vegetable Oil     97.9   N.A.\n296  1955   297     Liebmann Breweries     96.0   N.A.\n352  1955   353     Minneapolis-Moline     77.4   N.A.",
      "text/html": "<div>\n<style scoped>\n    .dataframe tbody tr th:only-of-type {\n        vertical-align: middle;\n    }\n\n    .dataframe tbody tr th {\n        vertical-align: top;\n    }\n\n    .dataframe thead th {\n        text-align: right;\n    }\n</style>\n<table border=\"1\" class=\"dataframe\">\n  <thead>\n    <tr style=\"text-align: right;\">\n      <th></th>\n      <th>year</th>\n      <th>rank</th>\n      <th>company</th>\n      <th>revenue</th>\n      <th>profit</th>\n    </tr>\n  </thead>\n  <tbody>\n    <tr>\n      <th>228</th>\n      <td>1955</td>\n      <td>229</td>\n      <td>Norton</td>\n      <td>135.0</td>\n      <td>N.A.</td>\n    </tr>\n    <tr>\n      <th>290</th>\n      <td>1955</td>\n      <td>291</td>\n      <td>Schlitz Brewing</td>\n      <td>100.0</td>\n      <td>N.A.</td>\n    </tr>\n    <tr>\n      <th>294</th>\n      <td>1955</td>\n      <td>295</td>\n      <td>Pacific Vegetable Oil</td>\n      <td>97.9</td>\n      <td>N.A.</td>\n    </tr>\n    <tr>\n      <th>296</th>\n      <td>1955</td>\n      <td>297</td>\n      <td>Liebmann Breweries</td>\n      <td>96.0</td>\n      <td>N.A.</td>\n    </tr>\n    <tr>\n      <th>352</th>\n      <td>1955</td>\n      <td>353</td>\n      <td>Minneapolis-Moline</td>\n      <td>77.4</td>\n      <td>N.A.</td>\n    </tr>\n  </tbody>\n</table>\n</div>"
     },
     "execution_count": 39,
     "metadata": {},
     "output_type": "execute_result"
    }
   ],
   "source": [
    "non_numeric_profits = df.profit.str.contains('[^0-9.-]')\n",
    "df.loc[non_numeric_profits].head()"
   ],
   "metadata": {
    "collapsed": false,
    "pycharm": {
     "name": "#%%\n"
    }
   }
  },
  {
   "cell_type": "code",
   "execution_count": 40,
   "outputs": [
    {
     "data": {
      "text/plain": "{'N.A.'}"
     },
     "execution_count": 40,
     "metadata": {},
     "output_type": "execute_result"
    }
   ],
   "source": [
    "set(df.profit[non_numeric_profits])"
   ],
   "metadata": {
    "collapsed": false,
    "pycharm": {
     "name": "#%%\n"
    }
   }
  },
  {
   "cell_type": "markdown",
   "source": [
    "There are values that are NA.  How many?"
   ],
   "metadata": {
    "collapsed": false,
    "pycharm": {
     "name": "#%% md\n"
    }
   }
  },
  {
   "cell_type": "code",
   "execution_count": 41,
   "outputs": [
    {
     "data": {
      "text/plain": "369"
     },
     "execution_count": 41,
     "metadata": {},
     "output_type": "execute_result"
    }
   ],
   "source": [
    "len(df.profit[non_numeric_profits])"
   ],
   "metadata": {
    "collapsed": false,
    "pycharm": {
     "name": "#%%\n"
    }
   }
  },
  {
   "cell_type": "markdown",
   "source": [
    "That's a small fraction of total data set:"
   ],
   "metadata": {
    "collapsed": false,
    "pycharm": {
     "name": "#%% md\n"
    }
   }
  },
  {
   "cell_type": "code",
   "execution_count": 42,
   "outputs": [
    {
     "data": {
      "text/plain": "0.014470588235294117"
     },
     "execution_count": 42,
     "metadata": {},
     "output_type": "execute_result"
    }
   ],
   "source": [
    "len(df.profit[non_numeric_profits])/len(df)"
   ],
   "metadata": {
    "collapsed": false,
    "pycharm": {
     "name": "#%%\n"
    }
   }
  },
  {
   "cell_type": "markdown",
   "source": [
    "The easiest thing to do is to discard the bad records.  How are they distributed?"
   ],
   "metadata": {
    "collapsed": false,
    "pycharm": {
     "name": "#%% md\n"
    }
   }
  },
  {
   "cell_type": "code",
   "execution_count": 43,
   "outputs": [
    {
     "data": {
      "text/plain": "<Figure size 432x288 with 1 Axes>",
      "image/png": "[encoded data removed]"
     },
     "metadata": {},
     "output_type": "display_data"
    }
   ],
   "source": [
    "bin_sizes, _, _ = plt.hist(df.year[non_numeric_profits], bins=range(1955,2006))"
   ],
   "metadata": {
    "collapsed": false,
    "pycharm": {
     "name": "#%%\n"
    }
   }
  },
  {
   "cell_type": "markdown",
   "source": [
    "The most invalid cases in a single year is fewer than 25.  Since there are 500 points per year, removing these values would account for less than 4% of the data for the worst years.  Let's remove these rows:"
   ],
   "metadata": {
    "collapsed": false,
    "pycharm": {
     "name": "#%% md\n"
    }
   }
  },
  {
   "cell_type": "code",
   "execution_count": 44,
   "outputs": [
    {
     "data": {
      "text/plain": "25131"
     },
     "execution_count": 44,
     "metadata": {},
     "output_type": "execute_result"
    }
   ],
   "source": [
    "df = df.loc[-non_numeric_profits]\n",
    "df.profit = df.profit.apply(pd.to_numeric)\n",
    "len(df)"
   ],
   "metadata": {
    "collapsed": false,
    "pycharm": {
     "name": "#%%\n"
    }
   }
  },
  {
   "cell_type": "markdown",
   "source": [
    "Let's check the types:"
   ],
   "metadata": {
    "collapsed": false,
    "pycharm": {
     "name": "#%% md\n"
    }
   }
  },
  {
   "cell_type": "code",
   "execution_count": 45,
   "outputs": [
    {
     "data": {
      "text/plain": "year         int64\nrank         int64\ncompany     object\nrevenue    float64\nprofit     float64\ndtype: object"
     },
     "execution_count": 45,
     "metadata": {},
     "output_type": "execute_result"
    }
   ],
   "source": [
    "df.dtypes"
   ],
   "metadata": {
    "collapsed": false,
    "pycharm": {
     "name": "#%%\n"
    }
   }
  },
  {
   "cell_type": "markdown",
   "source": [
    "The final presentation notebook shouldn't leave all these exploratory cells, but I want to be able to see them.\n",
    "\n",
    "Finally!  It's time to analyze some data.  Plot profit and revenue by year:"
   ],
   "metadata": {
    "collapsed": false,
    "pycharm": {
     "name": "#%% md\n"
    }
   }
  },
  {
   "cell_type": "code",
   "execution_count": 46,
   "outputs": [
    {
     "data": {
      "text/plain": "<Figure size 432x288 with 1 Axes>",
      "image/png": "[encoded data removed]"
     },
     "metadata": {},
     "output_type": "display_data"
    }
   ],
   "source": [
    "group_by_year = df.loc[:, ['year', 'revenue', 'profit']].groupby('year')\n",
    "avgs = group_by_year.mean()\n",
    "x = avgs.index\n",
    "y1 = avgs.profit\n",
    "\n",
    "def plot(x, y, ax, title, y_label):\n",
    "    ax.set_title(title)\n",
    "    ax.set_ylabel(y_label)\n",
    "    ax.plot(x, y)\n",
    "    ax.margins(x = 0, y = 0)\n",
    "\n",
    "fig, ax = plt.subplots()\n",
    "plot(x, y1, ax, 'Increase in mean Fortune 500 profits from 1955 to 2005', 'Profit (millions)')"
   ],
   "metadata": {
    "collapsed": false,
    "pycharm": {
     "name": "#%%\n"
    }
   }
  },
  {
   "cell_type": "raw",
   "source": [
    "y2 = avgs.revenue\n",
    "fig, ax = plt.subplots()\n",
    "plot(x, y2, ax, 'Increase in mean Fortune 500 company revenues from 1955 to 2005', 'Revenue (millions)')"
   ],
   "metadata": {
    "collapsed": false,
    "pycharm": {
     "name": "#%% raw\n"
    }
   }
  }
 ],
 "metadata": {
  "kernelspec": {
   "display_name": "Python 3",
   "language": "python",
   "name": "python3"
  },
  "language_info": {
   "codemirror_mode": {
    "name": "ipython",
    "version": 2
   },
   "file_extension": ".py",
   "mimetype": "text/x-python",
   "name": "python",
   "nbconvert_exporter": "python",
   "pygments_lexer": "ipython2",
   "version": "2.7.6"
  }
 },
 "nbformat": 4,
 "nbformat_minor": 0
}