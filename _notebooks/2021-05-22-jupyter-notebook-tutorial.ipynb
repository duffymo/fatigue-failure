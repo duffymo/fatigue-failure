{
 "cells": [
  {
   "cell_type": "markdown",
   "metadata": {
    "collapsed": true,
    "pycharm": {
     "name": "#%% md\n"
    }
   },
   "source": [
    "# First Jupyter Notebook\n",
    "> Tutorial With DataSpell\n",
    "\n",
    "This is my first attempt at using Jupyter notebook.\n",
    "\n",
    "My goal is to learn fast.ai, but one must walk before running.  Best to begin with a Jupyter notebook.  I found a [tutorial](https://www.dataquest.io/blog/jupyter-notebook-tutorial/) that introduces both markdown and calculations.\n",
    "\n",
    "I also downloaded DataSpell, an early access IDE for data science from JetBrains.  I think their IntelliJ IDE for Java is the best tool on the market.  I wanted to see if their new tool could provide a similar boost for my venture into data science.\n",
    "\n"
   ]
  }
 ],
 "metadata": {
  "kernelspec": {
   "display_name": "Python 3",
   "language": "python",
   "name": "python3"
  },
  "language_info": {
   "codemirror_mode": {
    "name": "ipython",
    "version": 2
   },
   "file_extension": ".py",
   "mimetype": "text/x-python",
   "name": "python",
   "nbconvert_exporter": "python",
   "pygments_lexer": "ipython2",
   "version": "2.7.6"
  }
 },
 "nbformat": 4,
 "nbformat_minor": 0
}