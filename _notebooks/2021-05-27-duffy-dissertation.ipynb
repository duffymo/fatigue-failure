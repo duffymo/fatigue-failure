{
 "cells": [
  {
   "cell_type": "raw",
   "metadata": {
    "collapsed": true,
    "pycharm": {
     "name": "#%% raw\n"
    }
   },
   "source": [
    "# Heat Transfer Analysis Of The Grinding Process\n",
    "\n",
    "> \"A dissertation submitted in partial fulfillment of the requirements for the degree of Doctor of Philosophy at The University of Connecticut by Michael O. Duffy 1992\"\n",
    "\n",
    "- toc: false\n",
    "- branch: master\n",
    "- badges: true\n",
    "- comments: true\n",
    "- categories: [fastpages, jupyter]\n",
    "- image: images/dissertation/creep-feed-grinding.jpeg\n",
    "- hide: false\n",
    "- search_exclude: true\n",
    "- ide: DataSpell\n",
    "\n",
    "Prediction of the temperature history of a workpiece for a given set of grinding process parameters has been studied\n",
    "for roughly forty years.  A variety of simplifications and assumptions have been made regarding the behavior of the\n",
    "workpiece, and its interaction with the grinding wheel and coolant, in order to make the problem tractable.  This\n",
    "dissertation builds on previous work in a number of ways.\n",
    "\n",
    "The first extension is a closed-form solution for the effect\n",
    "of the grinding wheel on the workpiece, allowing for finite radius and thickness, and for arbitrary distribution of flux\n",
    "around the circumference.  This difficult boundary-value problem is captured in a form similar to non-dimensional\n",
    "correlations used in fluid convection, allowing easy evaluation for a wide range of disk configurations based on\n",
    "three non-dimensional groups.\n",
    "\n",
    "The second extension is ease with which this closed-form solution can be incorporated into commercially-available\n",
    "finite element software, which eliminates the need for discretization of the grinding wheel.\n",
    "\n",
    "The third and final extension is the framework provided for incorporation of the effects of the grinding fluid\n",
    "delivery on process heat transfer.\n",
    "\n",
    "Future research can be used to quantify the functional relationship between the appropriate coolant delivery\n",
    "variables and the Biot number applied to the grinding wheel model.\n",
    "\n",
    "Use of the finite element method as the model of choice for conduction allows workpieces of arbitrarily complex\n",
    "geometry, temperature-dependent material properties, and spatially- and temporally-varying boundary conditions\n",
    "to be modeled as accurately as computer resources will allow.  Both analytical and experimental results included\n",
    "in this study show that the workpiece is extremely sensitive to changes in boundary conditions, suggesting that\n",
    "previously reported results for energy partition and limiting power flux must be carefully examined.  Past results\n",
    "may not be generally applicable to configurations substantially different from the experimental conditions under\n",
    "which they were measured.\n",
    "\n",
    "## Introduction\n",
    "\n",
    "## Theory\n",
    "\n",
    "## Applications\n",
    "\n",
    "## Discussion\n",
    "\n",
    "## Conclusions\n",
    "\n",
    "## Appendix\n",
    "\n"
   ]
  }
 ],
 "metadata": {
  "kernelspec": {
   "display_name": "Python 3",
   "language": "python",
   "name": "python3"
  },
  "language_info": {
   "codemirror_mode": {
    "name": "ipython",
    "version": 2
   },
   "file_extension": ".py",
   "mimetype": "text/x-python",
   "name": "python",
   "nbconvert_exporter": "python",
   "pygments_lexer": "ipython2",
   "version": "2.7.6"
  }
 },
 "nbformat": 4,
 "nbformat_minor": 0
}